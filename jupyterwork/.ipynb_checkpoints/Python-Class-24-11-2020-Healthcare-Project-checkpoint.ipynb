{
 "cells": [
  {
   "cell_type": "markdown",
   "metadata": {},
   "source": [
    "# A project on healthcare service process"
   ]
  },
  {
   "cell_type": "markdown",
   "metadata": {},
   "source": [
    "## Ch -1: Introduction "
   ]
  },
  {
   "cell_type": "markdown",
   "metadata": {},
   "source": [
    "### About Python "
   ]
  },
  {
   "cell_type": "markdown",
   "metadata": {},
   "source": [
    "Lorem Ipsum is simply dummy text of the printing and typesetting industry. Lorem Ipsum has been the industry's standard dummy text ever since the 1500s, when an unknown printer took a galley of type and scrambled it to make a type specimen book. It has survived not only five centuries, but also the leap into electronic typesetting, remaining essentially unchanged. It was popularised in the 1960s with the release of Letraset sheets containing Lorem Ipsum passages, and more recently with desktop publishing software like Aldus PageMaker including versions of Lorem Ipsum."
   ]
  },
  {
   "cell_type": "markdown",
   "metadata": {},
   "source": [
    "### About healthcare industry "
   ]
  },
  {
   "cell_type": "markdown",
   "metadata": {},
   "source": [
    "India has a universal healthcare model that is mostly administered at the state level rather than the federal level. The public system is essentially free for all Indian residents except for small, often symbolic co-payments in some services. In 2019, the total net government spending on healthcare was $ 36 billion or 1.23 \\% of its GDP.[3] The Indian Constitution makes the provision of healthcare in India the responsibility of the state governments, rather than the central federal government. It makes every state responsible for \"raising the level of nutrition and the standard of living of its people and the improvement of public health as among its primary duties\". Since the country's independence, the public healthcare system has been entirely funded through general taxation."
   ]
  },
  {
   "cell_type": "markdown",
   "metadata": {},
   "source": [
    "#### Services in healthcare industry"
   ]
  },
  {
   "cell_type": "markdown",
   "metadata": {},
   "source": [
    "# Ch 2: SDLC"
   ]
  },
  {
   "cell_type": "markdown",
   "metadata": {},
   "source": [
    "## planning"
   ]
  },
  {
   "cell_type": "markdown",
   "metadata": {},
   "source": [
    "language: This project requires Python 3.6\n",
    "\n",
    "modules: random\n",
    "\n",
    "packages: None\n",
    "\n"
   ]
  },
  {
   "cell_type": "markdown",
   "metadata": {},
   "source": [
    "## Analysis "
   ]
  },
  {
   "cell_type": "markdown",
   "metadata": {},
   "source": [
    "### Roles & Relationships \n"
   ]
  },
  {
   "cell_type": "markdown",
   "metadata": {},
   "source": [
    "Write about Doctor? his/her role; activities"
   ]
  },
  {
   "cell_type": "markdown",
   "metadata": {},
   "source": [
    "Write about Patient? his/her role; activities"
   ]
  },
  {
   "cell_type": "markdown",
   "metadata": {},
   "source": [
    "## Development "
   ]
  },
  {
   "cell_type": "code",
   "execution_count": 533,
   "metadata": {},
   "outputs": [],
   "source": [
    "def get_letters(word, idx1, idx2):\n",
    "    idx1 = idx1 - 1\n",
    "    idx2 - 1\n",
    "    for l in word.split():\n",
    "        return l[idx1:idx2]"
   ]
  },
  {
   "cell_type": "code",
   "execution_count": 534,
   "metadata": {},
   "outputs": [
    {
     "name": "stdout",
     "output_type": "stream",
     "text": [
      "k\n",
      "kamak\n"
     ]
    }
   ],
   "source": [
    "print(get_letters('kama', 1, 1))\n",
    "print(get_letters('kamakshaiah musunuru', 1, 5))"
   ]
  },
  {
   "cell_type": "code",
   "execution_count": 535,
   "metadata": {},
   "outputs": [
    {
     "data": {
      "text/plain": [
       "490"
      ]
     },
     "execution_count": 535,
     "metadata": {},
     "output_type": "execute_result"
    }
   ],
   "source": [
    "import random\n",
    "random.randint(1, 1000)"
   ]
  },
  {
   "cell_type": "code",
   "execution_count": 536,
   "metadata": {},
   "outputs": [],
   "source": [
    "class Doctor:\n",
    "    qual = []\n",
    "    spl = []\n",
    "    patients = []\n",
    "    \n",
    "    def __init__(self, qual, spl):\n",
    "        self.qual = qual\n",
    "        self.spl = spl\n",
    "        \n",
    "    def getInfo(self):\n",
    "        import random\n",
    "        \n",
    "        self.rnd = random.randint(1, 100)\n",
    "        self.docId = f'{self.rnd}-{self.qual}-{self.spl}'\n",
    "        print(self.docId)\n",
    "\n",
    "    def getPatients(self):\n",
    "        for pat in patients:\n",
    "            print(pat)\n",
    "    \n",
    "    def assignPatient(self, patients):\n",
    "        for pat in patients:\n",
    "            self.patients.append(pat)\n",
    "            "
   ]
  },
  {
   "cell_type": "code",
   "execution_count": 537,
   "metadata": {},
   "outputs": [],
   "source": [
    "class Patient():\n",
    "    \n",
    "    dental_patients = []\n",
    "    padiatric_patients = []\n",
    "    doctor = []\n",
    "    \n",
    "    def __init__(self, fname, lname, illness):\n",
    "        \n",
    "        self.fname = fname \n",
    "        self.lname = lname\n",
    "        self.illness = illness\n",
    "        \n",
    "    def getInfo(self):\n",
    "        import random\n",
    "        rnd = random.randint(1, 1000)\n",
    "        firstlettersofname = get_letters(self.fname, 1, 1) + get_letters(self.lname, 1, 1)\n",
    "        self.fullname = f'{self.fname } {self.lname}'\n",
    "        self.patid = f'{firstlettersofname}-{rnd}'\n",
    "        return {'fullname': self.fullname, 'patient_id': self.patid}\n",
    "    \n",
    "    def append_patients(self):\n",
    "        if self.illness == \"dental\":\n",
    "            self.dental_patients.append(self.fullname)\n",
    "            \n",
    "        else:\n",
    "            self.padiatric_patients.append(self.fullname)\n",
    "            \n",
    "            "
   ]
  },
  {
   "cell_type": "markdown",
   "metadata": {},
   "source": [
    "## Implementation "
   ]
  },
  {
   "cell_type": "code",
   "execution_count": 538,
   "metadata": {},
   "outputs": [
    {
     "name": "stdout",
     "output_type": "stream",
     "text": [
      "1-mbbs-dental\n",
      "mbbs dental None\n",
      "29-bds-padiatrician\n",
      "bds padiatrician None\n"
     ]
    }
   ],
   "source": [
    "doc1 = Doctor(qual = \"mbbs\", spl = \"dental\")\n",
    "doc2 = Doctor(qual = \"bds\", spl = \"padiatrician\")\n",
    "\n",
    "print(doc1.qual, doc1.spl, doc1.getInfo())\n",
    "print(doc2.qual, doc2.spl, doc2.getInfo())"
   ]
  },
  {
   "cell_type": "code",
   "execution_count": 539,
   "metadata": {},
   "outputs": [],
   "source": [
    "pat = Patient(fname=\"kamakshaiah\", lname=\"musunuru\", illness = \"dental\")\n",
    "pat1 = Patient(fname=\"sam\", lname='vijay', illness=\"dental\")\n",
    "pat2 = Patient(fname=\"vinod\", lname=\"datta\", illness = \"padiatrician\")\n",
    "pat3 = Patient(fname=\"harshita\", lname = \"k\", illness=\"padiatrician\")"
   ]
  },
  {
   "cell_type": "code",
   "execution_count": 540,
   "metadata": {},
   "outputs": [
    {
     "name": "stdout",
     "output_type": "stream",
     "text": [
      "kamakshaiah musunuru\n",
      "sam vijay\n",
      "vinod datta\n",
      "harshita k\n"
     ]
    }
   ],
   "source": [
    "print(pat.getInfo()['fullname'])\n",
    "print(pat1.getInfo()['fullname'])\n",
    "print(pat2.getInfo()['fullname'])\n",
    "print(pat3.getInfo()['fullname'])"
   ]
  },
  {
   "cell_type": "code",
   "execution_count": 541,
   "metadata": {},
   "outputs": [],
   "source": [
    "pat.append_patients()\n",
    "pat1.append_patients()\n",
    "pat2.append_patients()\n",
    "pat3.append_patients()"
   ]
  },
  {
   "cell_type": "code",
   "execution_count": 542,
   "metadata": {},
   "outputs": [
    {
     "name": "stdout",
     "output_type": "stream",
     "text": [
      "['kamakshaiah musunuru', 'sam vijay']\n"
     ]
    }
   ],
   "source": [
    "print(Patient.dental_patients)\n"
   ]
  },
  {
   "cell_type": "code",
   "execution_count": 543,
   "metadata": {},
   "outputs": [
    {
     "name": "stdout",
     "output_type": "stream",
     "text": [
      "['vinod datta', 'harshita k']\n"
     ]
    }
   ],
   "source": [
    "print(Patient.padiatric_patients)"
   ]
  },
  {
   "cell_type": "code",
   "execution_count": 544,
   "metadata": {},
   "outputs": [
    {
     "name": "stdout",
     "output_type": "stream",
     "text": [
      "dental\n",
      "dental\n",
      "padiatrician\n"
     ]
    }
   ],
   "source": [
    "print(pat.illness)\n",
    "print(pat1.illness)\n",
    "print(doc2.spl)"
   ]
  },
  {
   "cell_type": "code",
   "execution_count": 545,
   "metadata": {},
   "outputs": [],
   "source": [
    "doc1.assignPatient(Patient.dental_patients)\n",
    "doc2.assignPatient(Patient.padiatric_patients)\n",
    "\n",
    "#doc2.assignPatient(dpats)"
   ]
  },
  {
   "cell_type": "code",
   "execution_count": 546,
   "metadata": {},
   "outputs": [
    {
     "name": "stdout",
     "output_type": "stream",
     "text": [
      "['kamakshaiah musunuru', 'sam vijay', 'vinod datta', 'harshita k']\n",
      "['kamakshaiah musunuru', 'sam vijay', 'vinod datta', 'harshita k']\n"
     ]
    }
   ],
   "source": [
    "print(doc1.patients)\n",
    "print(doc2.patients)\n",
    "\n"
   ]
  },
  {
   "cell_type": "code",
   "execution_count": null,
   "metadata": {},
   "outputs": [],
   "source": []
  }
 ],
 "metadata": {
  "kernelspec": {
   "display_name": "Python 3",
   "language": "python",
   "name": "python3"
  },
  "language_info": {
   "codemirror_mode": {
    "name": "ipython",
    "version": 3
   },
   "file_extension": ".py",
   "mimetype": "text/x-python",
   "name": "python",
   "nbconvert_exporter": "python",
   "pygments_lexer": "ipython3",
   "version": "3.8.1"
  }
 },
 "nbformat": 4,
 "nbformat_minor": 4
}
