{
 "cells": [
  {
   "cell_type": "markdown",
   "metadata": {},
   "source": [
    "# A project on healthcare service process"
   ]
  },
  {
   "cell_type": "markdown",
   "metadata": {},
   "source": [
    "## Ch -1: Introduction "
   ]
  },
  {
   "cell_type": "markdown",
   "metadata": {},
   "source": [
    "### About Python "
   ]
  },
  {
   "cell_type": "markdown",
   "metadata": {},
   "source": [
    "Lorem Ipsum is simply dummy text of the printing and typesetting industry. Lorem Ipsum has been the industry's standard dummy text ever since the 1500s, when an unknown printer took a galley of type and scrambled it to make a type specimen book. It has survived not only five centuries, but also the leap into electronic typesetting, remaining essentially unchanged. It was popularised in the 1960s with the release of Letraset sheets containing Lorem Ipsum passages, and more recently with desktop publishing software like Aldus PageMaker including versions of Lorem Ipsum."
   ]
  },
  {
   "cell_type": "markdown",
   "metadata": {},
   "source": [
    "### About healthcare industry "
   ]
  },
  {
   "cell_type": "markdown",
   "metadata": {},
   "source": [
    "India has a universal healthcare model that is mostly administered at the state level rather than the federal level. The public system is essentially free for all Indian residents except for small, often symbolic co-payments in some services. In 2019, the total net government spending on healthcare was $ 36 billion or 1.23 \\% of its GDP.[3] The Indian Constitution makes the provision of healthcare in India the responsibility of the state governments, rather than the central federal government. It makes every state responsible for \"raising the level of nutrition and the standard of living of its people and the improvement of public health as among its primary duties\". Since the country's independence, the public healthcare system has been entirely funded through general taxation."
   ]
  },
  {
   "cell_type": "markdown",
   "metadata": {},
   "source": [
    "#### Services in healthcare industry"
   ]
  },
  {
   "cell_type": "markdown",
   "metadata": {},
   "source": [
    "# Ch 2: SDLC"
   ]
  },
  {
   "cell_type": "markdown",
   "metadata": {},
   "source": [
    "## planning"
   ]
  },
  {
   "cell_type": "markdown",
   "metadata": {},
   "source": [
    "This project requires Python 3.6"
   ]
  },
  {
   "cell_type": "markdown",
   "metadata": {},
   "source": [
    "## Analysis "
   ]
  },
  {
   "cell_type": "markdown",
   "metadata": {},
   "source": [
    "Roles & Relationships \n"
   ]
  },
  {
   "cell_type": "markdown",
   "metadata": {},
   "source": [
    "who is a Doctor? role "
   ]
  },
  {
   "cell_type": "markdown",
   "metadata": {},
   "source": [
    "who is patient? role "
   ]
  },
  {
   "cell_type": "markdown",
   "metadata": {},
   "source": [
    "## Development "
   ]
  },
  {
   "cell_type": "code",
   "execution_count": 3,
   "metadata": {},
   "outputs": [],
   "source": [
    "class Doctor:\n",
    "    def __init__(self, qual, spl):\n",
    "        self.qual = qual\n",
    "        self.spl = spl\n",
    "    def __str__(self):\n",
    "        print(self.qual, self.spl)\n",
    "        "
   ]
  },
  {
   "cell_type": "code",
   "execution_count": 7,
   "metadata": {},
   "outputs": [],
   "source": [
    "class Patient:\n",
    "    def __init__(self, fname, lname):\n",
    "        import random\n",
    "        self.fname = fname \n",
    "        self.lname = lname\n",
    "        \n",
    "    def __str__(self):\n",
    "        self.name = f'{fname } + {lname}'\n",
    "        self.patid = f'{fname} + {lname} + random.random()'\n",
    "        print(self.name, self.patid)"
   ]
  },
  {
   "cell_type": "markdown",
   "metadata": {},
   "source": [
    "## Implementation "
   ]
  },
  {
   "cell_type": "code",
   "execution_count": 6,
   "metadata": {},
   "outputs": [
    {
     "ename": "TypeError",
     "evalue": "Doctor() takes no arguments",
     "output_type": "error",
     "traceback": [
      "\u001b[1;31m---------------------------------------------------------------------------\u001b[0m",
      "\u001b[1;31mTypeError\u001b[0m                                 Traceback (most recent call last)",
      "\u001b[1;32m<ipython-input-6-dc55bb34c309>\u001b[0m in \u001b[0;36m<module>\u001b[1;34m\u001b[0m\n\u001b[1;32m----> 1\u001b[1;33m \u001b[0mdoc1\u001b[0m \u001b[1;33m=\u001b[0m \u001b[0mDoctor\u001b[0m\u001b[1;33m(\u001b[0m\u001b[0mqul\u001b[0m \u001b[1;33m=\u001b[0m \u001b[1;34m\"mbbs\"\u001b[0m\u001b[1;33m,\u001b[0m \u001b[0mspl\u001b[0m \u001b[1;33m=\u001b[0m \u001b[1;34m\"padiatrician\"\u001b[0m\u001b[1;33m)\u001b[0m\u001b[1;33m\u001b[0m\u001b[1;33m\u001b[0m\u001b[0m\n\u001b[0m",
      "\u001b[1;31mTypeError\u001b[0m: Doctor() takes no arguments"
     ]
    }
   ],
   "source": [
    "doc1 = Doctor(qul = \"mbbs\", spl = \"padiatrician\")"
   ]
  },
  {
   "cell_type": "code",
   "execution_count": null,
   "metadata": {},
   "outputs": [],
   "source": [
    "pat = Patient()"
   ]
  }
 ],
 "metadata": {
  "kernelspec": {
   "display_name": "Python 3",
   "language": "python",
   "name": "python3"
  },
  "language_info": {
   "codemirror_mode": {
    "name": "ipython",
    "version": 3
   },
   "file_extension": ".py",
   "mimetype": "text/x-python",
   "name": "python",
   "nbconvert_exporter": "python",
   "pygments_lexer": "ipython3",
   "version": "3.8.1"
  }
 },
 "nbformat": 4,
 "nbformat_minor": 4
}
